{
 "cells": [
  {
   "cell_type": "markdown",
   "metadata": {},
   "source": [
    "# 1. Make directories"
   ]
  },
  {
   "cell_type": "code",
   "execution_count": 1,
   "metadata": {},
   "outputs": [],
   "source": [
    "import os"
   ]
  },
  {
   "cell_type": "code",
   "execution_count": 2,
   "metadata": {},
   "outputs": [],
   "source": [
    "curr_path = os.getcwd()"
   ]
  },
  {
   "cell_type": "code",
   "execution_count": 3,
   "metadata": {},
   "outputs": [
    {
     "data": {
      "text/plain": [
       "'C:\\\\Users\\\\dell\\\\Desktop\\\\projects\\\\Breaking_captcha'"
      ]
     },
     "execution_count": 3,
     "metadata": {},
     "output_type": "execute_result"
    }
   ],
   "source": [
    "curr_path"
   ]
  },
  {
   "cell_type": "code",
   "execution_count": 13,
   "metadata": {},
   "outputs": [],
   "source": [
    "os.makedirs('data')"
   ]
  },
  {
   "cell_type": "code",
   "execution_count": 29,
   "metadata": {},
   "outputs": [],
   "source": [
    "curr_path = curr_path+'\\\\data'"
   ]
  },
  {
   "cell_type": "code",
   "execution_count": 45,
   "metadata": {},
   "outputs": [],
   "source": [
    "for i in range(2,10):\n",
    "    fn = os.path.join(curr_path, str(i))\n",
    "    #print(fn)\n",
    "    os.makedirs(fn)"
   ]
  },
  {
   "cell_type": "code",
   "execution_count": 46,
   "metadata": {},
   "outputs": [],
   "source": [
    "import string\n",
    "alpha = list(string.ascii_uppercase)"
   ]
  },
  {
   "cell_type": "code",
   "execution_count": 48,
   "metadata": {},
   "outputs": [],
   "source": [
    "for i in alpha:\n",
    "    if i not in ['O', 'I']:\n",
    "        fn = os.path.join(curr_path, i)\n",
    "        os.makedirs(fn)"
   ]
  },
  {
   "cell_type": "markdown",
   "metadata": {},
   "source": [
    "we created a 32 folders to store the data"
   ]
  },
  {
   "cell_type": "markdown",
   "metadata": {},
   "source": [
    "# 2. Transform data"
   ]
  },
  {
   "cell_type": "code",
   "execution_count": 4,
   "metadata": {},
   "outputs": [],
   "source": [
    "import glob\n",
    "import cv2\n",
    "import imutils"
   ]
  },
  {
   "cell_type": "code",
   "execution_count": 5,
   "metadata": {},
   "outputs": [],
   "source": [
    "curr_path = os.path.join(os.getcwd(),'captchas')"
   ]
  },
  {
   "cell_type": "code",
   "execution_count": 6,
   "metadata": {},
   "outputs": [],
   "source": [
    "captcha_image_files = glob.glob(os.path.join(curr_path, \"*\"))"
   ]
  },
  {
   "cell_type": "markdown",
   "metadata": {},
   "source": [
    "we split the captcha image so that that each letter is a separate image, then we only have to train the neural network to recognize a single letter at a time."
   ]
  },
  {
   "cell_type": "code",
   "execution_count": 16,
   "metadata": {},
   "outputs": [
    {
     "name": "stdout",
     "output_type": "stream",
     "text": [
      "[INFO] processing image 1/65\n",
      "[INFO] processing image 2/65\n",
      "[INFO] processing image 3/65\n",
      "[INFO] processing image 4/65\n",
      "[INFO] processing image 5/65\n",
      "[INFO] processing image 6/65\n",
      "[INFO] processing image 7/65\n",
      "[INFO] processing image 8/65\n",
      "[INFO] processing image 9/65\n",
      "[INFO] processing image 10/65\n",
      "[INFO] processing image 11/65\n",
      "[INFO] processing image 12/65\n",
      "[INFO] processing image 13/65\n",
      "[INFO] processing image 14/65\n",
      "[INFO] processing image 15/65\n",
      "[INFO] processing image 16/65\n",
      "[INFO] processing image 17/65\n",
      "[INFO] processing image 18/65\n",
      "[INFO] processing image 19/65\n",
      "[INFO] processing image 20/65\n",
      "[INFO] processing image 21/65\n",
      "[INFO] processing image 22/65\n",
      "[INFO] processing image 23/65\n",
      "[INFO] processing image 24/65\n",
      "[INFO] processing image 25/65\n",
      "[INFO] processing image 26/65\n"
     ]
    },
    {
     "name": "stdout",
     "output_type": "stream",
     "text": [
      "[INFO] processing image 9932/65\n",
      "[INFO] processing image 9933/65\n",
      "[INFO] processing image 9934/65\n",
      "[INFO] processing image 9935/65\n",
      "[INFO] processing image 9936/65\n",
      "[INFO] processing image 9937/65\n",
      "[INFO] processing image 9938/65\n",
      "[INFO] processing image 9939/65\n",
      "[INFO] processing image 9940/65\n",
      "[INFO] processing image 9941/65\n",
      "[INFO] processing image 9942/65\n",
      "[INFO] processing image 9943/65\n",
      "[INFO] processing image 9944/65\n",
      "[INFO] processing image 9945/65\n",
      "[INFO] processing image 9946/65\n",
      "[INFO] processing image 9947/65\n",
      "[INFO] processing image 9948/65\n",
      "[INFO] processing image 9949/65\n",
      "[INFO] processing image 9950/65\n",
      "[INFO] processing image 9951/65\n",
      "[INFO] processing image 9952/65\n",
      "[INFO] processing image 9953/65\n",
      "[INFO] processing image 9954/65\n",
      "[INFO] processing image 9955/65\n"
     ]
    }
   ],
   "source": [
    "lettre_Folder_path = os.path.join(os.getcwd(), 'data')\n",
    "counts = {}\n",
    "\n",
    "for (i,path) in enumerate(captcha_image_files):\n",
    "    print(\"[INFO] processing image {}/{}\".format(i + 1, len(captcha_image_files)))\n",
    "    \n",
    "    # grab the base filename as the text\n",
    "    filename = os.path.basename(path)\n",
    "    label = os.path.splitext(filename)[0]\n",
    "    \n",
    "    # load the image and convert it to grayscale\n",
    "    image = cv2.imread(path)\n",
    "    gray = cv2.cvtColor(image, cv2.COLOR_BGR2GRAY)\n",
    "    # make a border\n",
    "    gray = cv2.copyMakeBorder(gray, 8,8,8,8, cv2.BORDER_REPLICATE)\n",
    "    # threshold the image (convert it to pure black and white)\n",
    "    thres = cv2.threshold(gray, 0, 255, cv2.THRESH_BINARY_INV | cv2.THRESH_OTSU)[1]\n",
    "    # find the contours (continuous blobs of pixels) the image\n",
    "    cnts, hierarchy = cv2.findContours(thres.copy(), cv2.RETR_EXTERNAL, cv2.CHAIN_APPROX_SIMPLE)\n",
    "    #contours = contours[0] if imutils.is_cv2() else contours[1]\n",
    "\n",
    "    #print(contours)\n",
    "    lettre_image_contours = []\n",
    "    for contour in cnts:\n",
    "        (x, y, w, h) = cv2.boundingRect(contour)\n",
    "        # condition\n",
    "        \n",
    "        if w/h > 1.25:\n",
    "            half_w = int(w/2)\n",
    "            lettre_image_contours.append((x, y, half_w, h))\n",
    "            lettre_image_contours.append((x + half_w, y, half_w, h))\n",
    "\n",
    "        else:\n",
    "            lettre_image_contours.append((x, y, w, h))\n",
    "\n",
    "    # # If we found more or less than 4 letters in the captcha, Skip the image\n",
    "    if len(lettre_image_contours) != 4:\n",
    "        continue\n",
    "\n",
    "\n",
    "    lettre_image_contours = sorted(lettre_image_contours, key=lambda x: x[0])\n",
    "    \n",
    "    # Save out each letter as a single image\n",
    "    for lettre_box, lettre in zip(lettre_image_contours, label):\n",
    "        x, y, w, h = lettre_box\n",
    "        \n",
    "        letter_image = gray[y - 2:y + h + 2, x - 2:x + w + 2]\n",
    "\n",
    "        # Get the folder to save the image in\n",
    "        save_path = os.path.join(lettre_Folder_path, lettre)\n",
    "        \"\"\"\n",
    "        # if the output directory does not exist, create it\n",
    "        if not os.path.exists(save_path):\n",
    "            os.makedirs(save_path)\"\"\"\n",
    "\n",
    "        # write the letter image to a file\n",
    "        count = counts.get(lettre, 1)\n",
    "        p = os.path.join(save_path, \"{}.png\".format(str(count).zfill(6)))\n",
    "        cv2.imwrite(p, letter_image)\n",
    "\n",
    "        # increment the count for the current key\n",
    "        counts[lettre] = count + 1\n"
   ]
  },
  {
   "cell_type": "code",
   "execution_count": 15,
   "metadata": {},
   "outputs": [],
   "source": [
    "data_path = os.path.join(os.getcwd(),'data')"
   ]
  },
  {
   "cell_type": "code",
   "execution_count": 24,
   "metadata": {},
   "outputs": [],
   "source": [
    "data_folders = glob.glob(os.path.join(data_path, \"*\"))"
   ]
  },
  {
   "cell_type": "markdown",
   "metadata": {},
   "source": [
    "How many images do we have in each folder ?"
   ]
  },
  {
   "cell_type": "code",
   "execution_count": 30,
   "metadata": {
    "scrolled": true
   },
   "outputs": [
    {
     "name": "stdout",
     "output_type": "stream",
     "text": [
      "Folder 2 has 1204\n",
      "Folder 3 has 1203\n",
      "Folder 4 has 1197\n",
      "Folder 5 has 1231\n",
      "Folder 6 has 1160\n",
      "Folder 7 has 1284\n",
      "Folder 8 has 1214\n",
      "Folder 9 has 1357\n",
      "Folder A has 1188\n",
      "Folder B has 1199\n",
      "Folder C has 1202\n",
      "Folder D has 1199\n",
      "Folder E has 1261\n",
      "Folder F has 1177\n",
      "Folder G has 1224\n",
      "Folder H has 1221\n",
      "Folder J has 1115\n",
      "Folder K has 1220\n",
      "Folder L has 1198\n",
      "Folder M has 1170\n",
      "Folder N has 1249\n",
      "Folder P has 1244\n",
      "Folder Q has 1208\n",
      "Folder R has 1221\n",
      "Folder S has 1227\n",
      "Folder T has 1220\n",
      "Folder U has 1199\n",
      "Folder V has 1154\n",
      "Folder W has 1147\n",
      "Folder X has 1207\n",
      "Folder Y has 1218\n",
      "Folder Z has 1226\n"
     ]
    }
   ],
   "source": [
    "for i in data_folders:\n",
    "    l = glob.glob(os.path.join(i, \"*\"))\n",
    "    print(\"Folder {0} has {1}\".format(i[-1],len(l)))"
   ]
  },
  {
   "cell_type": "markdown",
   "metadata": {},
   "source": [
    "This is a function that we'll use it before training the data"
   ]
  },
  {
   "cell_type": "code",
   "execution_count": 7,
   "metadata": {},
   "outputs": [],
   "source": [
    "def preprocessImage(image, width, height):\n",
    "    h,w = image.shape[:2]\n",
    "    \n",
    "    if w > h:\n",
    "        image = imutils.resize(image, width=width)\n",
    "    else:\n",
    "        image = imutils.resize(image, height=height)\n",
    "        \n",
    "    \n",
    "    padW = int((width-image.shape[1])/2.0)\n",
    "    padH = int((height-image.shape[0])/2.0)\n",
    "    # Make border\n",
    "    image = cv2.copyMakeBorder(image, padH, padH, padW, padW, cv2.BORDER_REPLICATE)\n",
    "    \n",
    "    # Make sure the size of image is (width, height)\n",
    "    image = cv2.resize(image, (width, height))\n",
    "    \n",
    "    return image"
   ]
  },
  {
   "cell_type": "markdown",
   "metadata": {},
   "source": [
    "# 3. Training v1"
   ]
  },
  {
   "cell_type": "markdown",
   "metadata": {},
   "source": [
    "We'll use the image_dataset_from_directory function from tensorflow.keras.preprocessing"
   ]
  },
  {
   "cell_type": "code",
   "execution_count": 5,
   "metadata": {},
   "outputs": [],
   "source": [
    "import pathlib"
   ]
  },
  {
   "cell_type": "code",
   "execution_count": 6,
   "metadata": {},
   "outputs": [],
   "source": [
    "data_path = pathlib.Path(data_path)"
   ]
  },
  {
   "cell_type": "code",
   "execution_count": 13,
   "metadata": {},
   "outputs": [
    {
     "data": {
      "text/plain": [
       "WindowsPath('C:/Users/dell/Desktop/projects/Breaking_captcha/data')"
      ]
     },
     "execution_count": 13,
     "metadata": {},
     "output_type": "execute_result"
    }
   ],
   "source": [
    "data_path"
   ]
  },
  {
   "cell_type": "code",
   "execution_count": 9,
   "metadata": {
    "scrolled": true
   },
   "outputs": [
    {
     "data": {
      "text/plain": [
       "[WindowsPath('C:/Users/dell/Desktop/projects/Breaking_captcha/data'),\n",
       " WindowsPath('C:/Users/dell/Desktop/projects/Breaking_captcha/data/2'),\n",
       " WindowsPath('C:/Users/dell/Desktop/projects/Breaking_captcha/data/3'),\n",
       " WindowsPath('C:/Users/dell/Desktop/projects/Breaking_captcha/data/4'),\n",
       " WindowsPath('C:/Users/dell/Desktop/projects/Breaking_captcha/data/5'),\n",
       " WindowsPath('C:/Users/dell/Desktop/projects/Breaking_captcha/data/6'),\n",
       " WindowsPath('C:/Users/dell/Desktop/projects/Breaking_captcha/data/7'),\n",
       " WindowsPath('C:/Users/dell/Desktop/projects/Breaking_captcha/data/8'),\n",
       " WindowsPath('C:/Users/dell/Desktop/projects/Breaking_captcha/data/9'),\n",
       " WindowsPath('C:/Users/dell/Desktop/projects/Breaking_captcha/data/A'),\n",
       " WindowsPath('C:/Users/dell/Desktop/projects/Breaking_captcha/data/B'),\n",
       " WindowsPath('C:/Users/dell/Desktop/projects/Breaking_captcha/data/C'),\n",
       " WindowsPath('C:/Users/dell/Desktop/projects/Breaking_captcha/data/D'),\n",
       " WindowsPath('C:/Users/dell/Desktop/projects/Breaking_captcha/data/E'),\n",
       " WindowsPath('C:/Users/dell/Desktop/projects/Breaking_captcha/data/F'),\n",
       " WindowsPath('C:/Users/dell/Desktop/projects/Breaking_captcha/data/G'),\n",
       " WindowsPath('C:/Users/dell/Desktop/projects/Breaking_captcha/data/H'),\n",
       " WindowsPath('C:/Users/dell/Desktop/projects/Breaking_captcha/data/J'),\n",
       " WindowsPath('C:/Users/dell/Desktop/projects/Breaking_captcha/data/K'),\n",
       " WindowsPath('C:/Users/dell/Desktop/projects/Breaking_captcha/data/L'),\n",
       " WindowsPath('C:/Users/dell/Desktop/projects/Breaking_captcha/data/M'),\n",
       " WindowsPath('C:/Users/dell/Desktop/projects/Breaking_captcha/data/N'),\n",
       " WindowsPath('C:/Users/dell/Desktop/projects/Breaking_captcha/data/P'),\n",
       " WindowsPath('C:/Users/dell/Desktop/projects/Breaking_captcha/data/Q'),\n",
       " WindowsPath('C:/Users/dell/Desktop/projects/Breaking_captcha/data/R'),\n",
       " WindowsPath('C:/Users/dell/Desktop/projects/Breaking_captcha/data/S'),\n",
       " WindowsPath('C:/Users/dell/Desktop/projects/Breaking_captcha/data/T'),\n",
       " WindowsPath('C:/Users/dell/Desktop/projects/Breaking_captcha/data/U'),\n",
       " WindowsPath('C:/Users/dell/Desktop/projects/Breaking_captcha/data/V'),\n",
       " WindowsPath('C:/Users/dell/Desktop/projects/Breaking_captcha/data/W'),\n",
       " WindowsPath('C:/Users/dell/Desktop/projects/Breaking_captcha/data/X'),\n",
       " WindowsPath('C:/Users/dell/Desktop/projects/Breaking_captcha/data/Y'),\n",
       " WindowsPath('C:/Users/dell/Desktop/projects/Breaking_captcha/data/Z')]"
      ]
     },
     "execution_count": 9,
     "metadata": {},
     "output_type": "execute_result"
    }
   ],
   "source": [
    "list(data_path.glob('**/'))"
   ]
  },
  {
   "cell_type": "code",
   "execution_count": 7,
   "metadata": {
    "scrolled": true
   },
   "outputs": [],
   "source": [
    "import tensorflow as tf\n",
    "from tensorflow import keras\n",
    "from tensorflow.keras import preprocessing\n",
    "from tensorflow.keras.preprocessing import image_dataset_from_directory"
   ]
  },
  {
   "cell_type": "code",
   "execution_count": 8,
   "metadata": {},
   "outputs": [],
   "source": [
    "batch_size = 32\n",
    "img_height = 28\n",
    "img_width = 28"
   ]
  },
  {
   "cell_type": "code",
   "execution_count": 9,
   "metadata": {},
   "outputs": [
    {
     "name": "stdout",
     "output_type": "stream",
     "text": [
      "Found 38744 files belonging to 32 classes.\n",
      "Using 30996 files for training.\n"
     ]
    }
   ],
   "source": [
    "train_data = image_dataset_from_directory(data_path,\n",
    "                                         validation_split=0.2,\n",
    "                                         subset=\"training\",\n",
    "                                         image_size=(img_height, img_width),\n",
    "                                         batch_size=batch_size,\n",
    "                                         seed=3)"
   ]
  },
  {
   "cell_type": "code",
   "execution_count": 11,
   "metadata": {},
   "outputs": [
    {
     "name": "stdout",
     "output_type": "stream",
     "text": [
      "Found 38744 files belonging to 32 classes.\n",
      "Using 7748 files for validation.\n"
     ]
    }
   ],
   "source": [
    "test_data = image_dataset_from_directory(\n",
    "    data_path,\n",
    "    validation_split=0.2,\n",
    "    subset=\"validation\",\n",
    "    seed=3,\n",
    "    image_size=(img_height, img_width),\n",
    "    batch_size=batch_size,\n",
    "    )"
   ]
  },
  {
   "cell_type": "code",
   "execution_count": 12,
   "metadata": {},
   "outputs": [],
   "source": [
    "class_names = train_data.class_names"
   ]
  },
  {
   "cell_type": "markdown",
   "metadata": {},
   "source": [
    "## 3.1 Data training"
   ]
  },
  {
   "cell_type": "code",
   "execution_count": 1,
   "metadata": {},
   "outputs": [],
   "source": [
    "import matplotlib.pyplot as plt"
   ]
  },
  {
   "cell_type": "code",
   "execution_count": 14,
   "metadata": {
    "scrolled": false
   },
   "outputs": [
    {
     "data": {
      "image/png": "[encoded data removed]",
      "text/plain": [
       "<Figure size 720x720 with 25 Axes>"
      ]
     },
     "metadata": {
      "needs_background": "light"
     },
     "output_type": "display_data"
    }
   ],
   "source": [
    "plt.figure(figsize=(10, 10))\n",
    "for images, labels in train_data.take(1):\n",
    "    for i in range(25):\n",
    "        ax = plt.subplot(5, 5, i + 1)\n",
    "        plt.imshow(images[i].numpy().astype(\"uint8\"))\n",
    "        plt.title(class_names[labels[i]])\n",
    "        plt.axis(\"off\")"
   ]
  },
  {
   "cell_type": "markdown",
   "metadata": {},
   "source": [
    "## 3.2 Model"
   ]
  },
  {
   "cell_type": "code",
   "execution_count": 83,
   "metadata": {},
   "outputs": [],
   "source": [
    "from tensorflow.keras import layers\n",
    "from tensorflow.keras.models import Sequential"
   ]
  },
  {
   "cell_type": "code",
   "execution_count": 33,
   "metadata": {},
   "outputs": [],
   "source": [
    "num_classes = len(class_names)\n",
    "model = Sequential([\n",
    "  layers.experimental.preprocessing.Rescaling(1./255, input_shape=(img_height, img_width, 3)),\n",
    "  layers.Conv2D(20, (5,5), padding='same', activation='relu'),\n",
    "  layers.MaxPooling2D(pool_size=(2,2), strides=(2,2)),\n",
    "    \n",
    "  layers.Conv2D(50, (5,5), padding='same', activation='relu'),\n",
    "  layers.MaxPooling2D(pool_size=(2,2), strides=(2,2)),\n",
    "    \n",
    "  #layers.Conv2D(64, 3, padding='same', activation='relu'),\n",
    "  #layers.MaxPooling2D(),\n",
    "  layers.Flatten(),\n",
    "  layers.Dense(500, activation='relu'),\n",
    "  layers.Dense(num_classes, activation='softmax')\n",
    "])"
   ]
  },
  {
   "cell_type": "code",
   "execution_count": 34,
   "metadata": {},
   "outputs": [
    {
     "name": "stdout",
     "output_type": "stream",
     "text": [
      "Model: \"sequential\"\n",
      "_________________________________________________________________\n",
      "Layer (type)                 Output Shape              Param #   \n",
      "=================================================================\n",
      "rescaling (Rescaling)        (None, 28, 28, 3)         0         \n",
      "_________________________________________________________________\n",
      "conv2d (Conv2D)              (None, 28, 28, 20)        1520      \n",
      "_________________________________________________________________\n",
      "max_pooling2d (MaxPooling2D) (None, 14, 14, 20)        0         \n",
      "_________________________________________________________________\n",
      "conv2d_1 (Conv2D)            (None, 14, 14, 50)        25050     \n",
      "_________________________________________________________________\n",
      "max_pooling2d_1 (MaxPooling2 (None, 7, 7, 50)          0         \n",
      "_________________________________________________________________\n",
      "flatten (Flatten)            (None, 2450)              0         \n",
      "_________________________________________________________________\n",
      "dense (Dense)                (None, 500)               1225500   \n",
      "_________________________________________________________________\n",
      "dense_1 (Dense)              (None, 32)                16032     \n",
      "=================================================================\n",
      "Total params: 1,268,102\n",
      "Trainable params: 1,268,102\n",
      "Non-trainable params: 0\n",
      "_________________________________________________________________\n"
     ]
    }
   ],
   "source": [
    "model.summary()"
   ]
  },
  {
   "cell_type": "code",
   "execution_count": 37,
   "metadata": {},
   "outputs": [],
   "source": [
    "model.compile(loss=\"sparse_categorical_crossentropy\", optimizer=\"adam\", metrics=[\"accuracy\"])"
   ]
  },
  {
   "cell_type": "code",
   "execution_count": 41,
   "metadata": {
    "scrolled": true
   },
   "outputs": [
    {
     "name": "stdout",
     "output_type": "stream",
     "text": [
      "Epoch 1/15\n",
      "969/969 [==============================] - 39s 40ms/step - loss: 0.0029 - accuracy: 0.9993 - val_loss: 0.0087 - val_accuracy: 0.9987\n",
      "Epoch 2/15\n",
      "969/969 [==============================] - 41s 42ms/step - loss: 0.0040 - accuracy: 0.9991 - val_loss: 0.0119 - val_accuracy: 0.9973\n",
      "Epoch 3/15\n",
      "969/969 [==============================] - 42s 43ms/step - loss: 0.0038 - accuracy: 0.9990 - val_loss: 0.0151 - val_accuracy: 0.9982\n",
      "Epoch 4/15\n",
      "969/969 [==============================] - 42s 43ms/step - loss: 0.0021 - accuracy: 0.9997 - val_loss: 0.0170 - val_accuracy: 0.9977\n",
      "Epoch 5/15\n",
      "969/969 [==============================] - 42s 44ms/step - loss: 0.0017 - accuracy: 0.9993 - val_loss: 0.0150 - val_accuracy: 0.9978\n",
      "Epoch 6/15\n",
      "969/969 [==============================] - 42s 43ms/step - loss: 0.0022 - accuracy: 0.9996 - val_loss: 0.0110 - val_accuracy: 0.9979\n",
      "Epoch 7/15\n",
      "969/969 [==============================] - 43s 44ms/step - loss: 0.0068 - accuracy: 0.9988 - val_loss: 0.0229 - val_accuracy: 0.9982\n",
      "Epoch 8/15\n",
      "969/969 [==============================] - 43s 44ms/step - loss: 0.0026 - accuracy: 0.9996 - val_loss: 0.0209 - val_accuracy: 0.9982\n",
      "Epoch 9/15\n",
      "969/969 [==============================] - 43s 44ms/step - loss: 0.0021 - accuracy: 0.9996 - val_loss: 0.0155 - val_accuracy: 0.9982\n",
      "Epoch 10/15\n",
      "969/969 [==============================] - 43s 44ms/step - loss: 3.6818e-05 - accuracy: 1.0000 - val_loss: 0.0099 - val_accuracy: 0.9988\n",
      "Epoch 11/15\n",
      "969/969 [==============================] - 43s 44ms/step - loss: 0.0050 - accuracy: 0.9992 - val_loss: 0.0161 - val_accuracy: 0.9978\n",
      "Epoch 12/15\n",
      "969/969 [==============================] - 43s 44ms/step - loss: 2.6502e-04 - accuracy: 0.9999 - val_loss: 0.0120 - val_accuracy: 0.9987\n",
      "Epoch 13/15\n",
      "969/969 [==============================] - 42s 44ms/step - loss: 0.0043 - accuracy: 0.9993 - val_loss: 0.0074 - val_accuracy: 0.9991\n",
      "Epoch 14/15\n",
      "969/969 [==============================] - 42s 44ms/step - loss: 0.0017 - accuracy: 0.9997 - val_loss: 0.0138 - val_accuracy: 0.9983\n",
      "Epoch 15/15\n",
      "969/969 [==============================] - 43s 44ms/step - loss: 0.0015 - accuracy: 0.9998 - val_loss: 0.0149 - val_accuracy: 0.9978\n"
     ]
    }
   ],
   "source": [
    "History = model.fit(train_data, validation_data=test_data, epochs=15)"
   ]
  },
  {
   "cell_type": "markdown",
   "metadata": {},
   "source": [
    "## 3.3 Performance"
   ]
  },
  {
   "cell_type": "code",
   "execution_count": 48,
   "metadata": {},
   "outputs": [
    {
     "data": {
      "text/plain": [
       "<matplotlib.legend.Legend at 0x22e007bfe88>"
      ]
     },
     "execution_count": 48,
     "metadata": {},
     "output_type": "execute_result"
    },
    {
     "data": {
      "image/png": "[encoded data removed]",
      "text/plain": [
       "<Figure size 432x288 with 1 Axes>"
      ]
     },
     "metadata": {},
     "output_type": "display_data"
    }
   ],
   "source": [
    "import numpy as np\n",
    "plt.style.use(\"ggplot\")\n",
    "plt.figure()\n",
    "plt.plot(np.arange(0, 15), History.history[\"loss\"], label=\"train_loss\")\n",
    "plt.plot(np.arange(0, 15), History.history[\"val_loss\"], label=\"val_loss\")\n",
    "plt.plot(np.arange(0, 15), History.history[\"accuracy\"], label=\"train_acc\")\n",
    "plt.plot(np.arange(0, 15), History.history[\"val_accuracy\"], label=\"val_acc\")\n",
    "plt.title(\"Training Loss and Accuracy\")\n",
    "plt.xlabel(\"Epoch #\")\n",
    "plt.ylabel(\"Loss/Accuracy\")\n",
    "plt.legend()"
   ]
  },
  {
   "cell_type": "code",
   "execution_count": 46,
   "metadata": {},
   "outputs": [
    {
     "data": {
      "text/plain": [
       "<matplotlib.legend.Legend at 0x22e008b4c08>"
      ]
     },
     "execution_count": 46,
     "metadata": {},
     "output_type": "execute_result"
    },
    {
     "data": {
      "image/png": "[encoded data removed]",
      "text/plain": [
       "<Figure size 432x288 with 1 Axes>"
      ]
     },
     "metadata": {},
     "output_type": "display_data"
    }
   ],
   "source": [
    "plt.figure()\n",
    "plt.plot(np.arange(0, 15), History.history[\"loss\"], label=\"train_loss\")\n",
    "plt.plot(np.arange(0, 15), History.history[\"val_loss\"], label=\"val_loss\")\n",
    "plt.xlabel(\"Epoch #\")\n",
    "plt.ylabel(\"Loss\")\n",
    "plt.legend()"
   ]
  },
  {
   "cell_type": "markdown",
   "metadata": {},
   "source": [
    "## 3.4 Save model"
   ]
  },
  {
   "cell_type": "code",
   "execution_count": 49,
   "metadata": {},
   "outputs": [],
   "source": [
    "model.save(\"captcha_model_v1.hdf5\")"
   ]
  },
  {
   "cell_type": "markdown",
   "metadata": {},
   "source": [
    "# 4. Training V2"
   ]
  },
  {
   "cell_type": "markdown",
   "metadata": {},
   "source": [
    "We'll use preprocessImage function that we created before and we'll load the data manuelly"
   ]
  },
  {
   "cell_type": "code",
   "execution_count": 13,
   "metadata": {},
   "outputs": [],
   "source": [
    "from sklearn.model_selection import train_test_split\n",
    "from sklearn.preprocessing import LabelBinarizer"
   ]
  },
  {
   "cell_type": "code",
   "execution_count": 16,
   "metadata": {},
   "outputs": [],
   "source": [
    "data = []\n",
    "labels = []\n",
    "list_images = glob.glob(os.path.join(data_path, \"*\\*\"))\n",
    "for imag in list_images:\n",
    "    image = cv2.imread(imag)\n",
    "    image = cv2.cvtColor(image, cv2.COLOR_BGR2GRAY)\n",
    "    image = preprocessImage(image, 28, 28)\n",
    "    \n",
    "    # Add a third channel dimension to the image to make Keras happy\n",
    "    image = np.expand_dims(image, axis=2)\n",
    "    data.append(image)\n",
    "    label = imag.split(os.path.sep)[-2]\n",
    "    labels.append(label)\n",
    "\n",
    "data = np.array(data, dtype=\"float\") / 255.0\n",
    "labels = np.array(labels)\n",
    "\n",
    "# Split the training data into separate train and test sets\n",
    "(X_train, X_test, Y_train, Y_test) = train_test_split(data, labels, test_size=0.25, random_state=0)\n",
    "# Convert the labels (letters) into one-hot encodings that Keras can work with\n",
    "lb = LabelBinarizer().fit(Y_train)\n",
    "Y_train = lb.transform(Y_train)\n",
    "Y_test = lb.transform(Y_test)"
   ]
  },
  {
   "cell_type": "code",
   "execution_count": 17,
   "metadata": {},
   "outputs": [
    {
     "data": {
      "text/plain": [
       "(9686, 28, 28, 1)"
      ]
     },
     "execution_count": 17,
     "metadata": {},
     "output_type": "execute_result"
    }
   ],
   "source": [
    "X_test.shape"
   ]
  },
  {
   "cell_type": "markdown",
   "metadata": {},
   "source": [
    "## 4.1 Model"
   ]
  },
  {
   "cell_type": "code",
   "execution_count": 84,
   "metadata": {},
   "outputs": [],
   "source": [
    "model2 = Sequential([\n",
    "  \n",
    "  layers.Conv2D(20, (5,5), padding='same', input_shape = (28,28,1), activation='relu'),\n",
    "  layers.MaxPooling2D(pool_size=(2,2), strides=(2,2)),\n",
    "    \n",
    "  layers.Conv2D(50, (5,5), padding='same', activation='relu'),\n",
    "  layers.MaxPooling2D(pool_size=(2,2), strides=(2,2)),\n",
    "\n",
    "  layers.Flatten(),\n",
    "  layers.Dense(500, activation='relu'),\n",
    "  layers.Dense(32, activation='softmax')\n",
    "])"
   ]
  },
  {
   "cell_type": "code",
   "execution_count": 88,
   "metadata": {
    "scrolled": true
   },
   "outputs": [
    {
     "name": "stdout",
     "output_type": "stream",
     "text": [
      "Epoch 1/15\n",
      "909/909 [==============================] - 24s 26ms/step - loss: 0.1673 - accuracy: 0.9598 - val_loss: 0.0210 - val_accuracy: 0.9950\n",
      "Epoch 2/15\n",
      "909/909 [==============================] - 28s 31ms/step - loss: 0.0112 - accuracy: 0.9971 - val_loss: 0.0109 - val_accuracy: 0.9973\n",
      "Epoch 3/15\n",
      "909/909 [==============================] - 29s 32ms/step - loss: 0.0058 - accuracy: 0.9982 - val_loss: 0.0076 - val_accuracy: 0.9976\n",
      "Epoch 4/15\n",
      "909/909 [==============================] - 30s 33ms/step - loss: 0.0056 - accuracy: 0.9985 - val_loss: 0.0077 - val_accuracy: 0.9980\n",
      "Epoch 5/15\n",
      "909/909 [==============================] - 30s 33ms/step - loss: 0.0013 - accuracy: 0.9995 - val_loss: 0.0073 - val_accuracy: 0.9987\n",
      "Epoch 6/15\n",
      "909/909 [==============================] - 31s 34ms/step - loss: 0.0054 - accuracy: 0.9985 - val_loss: 0.0119 - val_accuracy: 0.9970\n",
      "Epoch 7/15\n",
      "909/909 [==============================] - 31s 34ms/step - loss: 0.0027 - accuracy: 0.9993 - val_loss: 0.0058 - val_accuracy: 0.9983\n",
      "Epoch 8/15\n",
      "909/909 [==============================] - 33s 36ms/step - loss: 0.0029 - accuracy: 0.9991 - val_loss: 0.0147 - val_accuracy: 0.9968\n",
      "Epoch 9/15\n",
      "909/909 [==============================] - 30s 33ms/step - loss: 0.0027 - accuracy: 0.9991 - val_loss: 0.0204 - val_accuracy: 0.9945\n",
      "Epoch 10/15\n",
      "909/909 [==============================] - 34s 38ms/step - loss: 0.0041 - accuracy: 0.9989 - val_loss: 0.0100 - val_accuracy: 0.9981\n",
      "Epoch 11/15\n",
      "909/909 [==============================] - 33s 36ms/step - loss: 9.1937e-04 - accuracy: 0.9996 - val_loss: 0.0183 - val_accuracy: 0.9967\n",
      "Epoch 12/15\n",
      "909/909 [==============================] - 32s 35ms/step - loss: 0.0025 - accuracy: 0.9994 - val_loss: 0.0055 - val_accuracy: 0.9988\n",
      "Epoch 13/15\n",
      "909/909 [==============================] - 35s 38ms/step - loss: 0.0019 - accuracy: 0.9994 - val_loss: 0.0078 - val_accuracy: 0.9982\n",
      "Epoch 14/15\n",
      "909/909 [==============================] - 31s 34ms/step - loss: 0.0095 - accuracy: 0.9983 - val_loss: 0.0064 - val_accuracy: 0.9987\n",
      "Epoch 15/15\n",
      "909/909 [==============================] - 35s 38ms/step - loss: 2.4605e-04 - accuracy: 0.9999 - val_loss: 0.0031 - val_accuracy: 0.9992\n"
     ]
    }
   ],
   "source": [
    "# Ask Keras to build the TensorFlow model behind the scenes\n",
    "model2.compile(loss=\"categorical_crossentropy\", optimizer=\"adam\", metrics=[\"accuracy\"])\n",
    "\n",
    "# Train the neural network\n",
    "h = model2.fit(X_train, Y_train, validation_data=(X_test, Y_test), batch_size=32, epochs=15)"
   ]
  },
  {
   "cell_type": "markdown",
   "metadata": {},
   "source": [
    "## 4.2 Performance"
   ]
  },
  {
   "cell_type": "code",
   "execution_count": 90,
   "metadata": {},
   "outputs": [
    {
     "data": {
      "text/plain": [
       "<matplotlib.legend.Legend at 0x1e7921f3508>"
      ]
     },
     "execution_count": 90,
     "metadata": {},
     "output_type": "execute_result"
    },
    {
     "data": {
      "image/png": "[encoded data removed]",
      "text/plain": [
       "<Figure size 432x288 with 1 Axes>"
      ]
     },
     "metadata": {},
     "output_type": "display_data"
    }
   ],
   "source": [
    "import matplotlib.pyplot as plt\n",
    "plt.style.use(\"ggplot\")\n",
    "plt.figure()\n",
    "plt.plot(np.arange(0, 15), h.history[\"loss\"], label=\"train_loss\")\n",
    "plt.plot(np.arange(0, 15), h.history[\"val_loss\"], label=\"val_loss\")\n",
    "plt.plot(np.arange(0, 15), h.history[\"accuracy\"], label=\"train_acc\")\n",
    "plt.plot(np.arange(0, 15), h.history[\"val_accuracy\"], label=\"val_acc\")\n",
    "plt.title(\"Training Loss and Accuracy\")\n",
    "plt.xlabel(\"Epoch #\")\n",
    "plt.ylabel(\"Loss/Accuracy\")\n",
    "plt.legend()"
   ]
  },
  {
   "cell_type": "code",
   "execution_count": 92,
   "metadata": {},
   "outputs": [
    {
     "data": {
      "text/plain": [
       "<matplotlib.legend.Legend at 0x1e7923d24c8>"
      ]
     },
     "execution_count": 92,
     "metadata": {},
     "output_type": "execute_result"
    },
    {
     "data": {
      "image/png": "[encoded data removed]",
      "text/plain": [
       "<Figure size 432x288 with 1 Axes>"
      ]
     },
     "metadata": {},
     "output_type": "display_data"
    }
   ],
   "source": [
    "plt.figure()\n",
    "plt.plot(np.arange(0, 15), h.history[\"loss\"], label=\"train_loss\")\n",
    "plt.plot(np.arange(0, 15), h.history[\"val_loss\"], label=\"val_loss\")\n",
    "plt.xlabel(\"Epoch #\")\n",
    "plt.ylabel(\"Loss\")\n",
    "plt.legend()"
   ]
  },
  {
   "cell_type": "markdown",
   "metadata": {},
   "source": [
    "## 4.3 Save model"
   ]
  },
  {
   "cell_type": "code",
   "execution_count": 93,
   "metadata": {},
   "outputs": [],
   "source": [
    "model2.save(\"captcha_model_v2.hdf5\")"
   ]
  },
  {
   "cell_type": "markdown",
   "metadata": {},
   "source": [
    "# 5. Testing"
   ]
  },
  {
   "cell_type": "code",
   "execution_count": 8,
   "metadata": {},
   "outputs": [],
   "source": [
    "from tensorflow.keras.models import load_model\n",
    "import numpy as np\n",
    "import matplotlib.pyplot as plt"
   ]
  },
  {
   "cell_type": "markdown",
   "metadata": {},
   "source": [
    "## 5.1 Test the 1st model"
   ]
  },
  {
   "cell_type": "code",
   "execution_count": 54,
   "metadata": {},
   "outputs": [],
   "source": [
    "model = load_model(\"captcha_model_v1.hdf5\")"
   ]
  },
  {
   "cell_type": "code",
   "execution_count": 55,
   "metadata": {},
   "outputs": [],
   "source": [
    "data_path = os.path.join(os.getcwd(),'data')\n",
    "class_names = [i[-1:] for i in glob.glob(os.path.join(data_path, \"*\"))]"
   ]
  },
  {
   "cell_type": "code",
   "execution_count": 56,
   "metadata": {},
   "outputs": [],
   "source": [
    "captcha_image_files = glob.glob(os.path.join(curr_path, \"*\"))"
   ]
  },
  {
   "cell_type": "code",
   "execution_count": 59,
   "metadata": {
    "scrolled": true
   },
   "outputs": [
    {
     "name": "stdout",
     "output_type": "stream",
     "text": [
      "CAPTCHA text is: 2PFS\n",
      "CAPTCHA text is: PW5U\n",
      "CAPTCHA text is: 47QJ\n",
      "CAPTCHA text is: H2RY\n",
      "CAPTCHA text is: FPVS\n"
     ]
    }
   ],
   "source": [
    "c_i_f = np.random.choice(captcha_image_files, size=(5,), replace=False)\n",
    "out = []\n",
    "for image_file in c_i_f:\n",
    "    # Load the image and convert it to grayscale\n",
    "    image = cv2.imread(image_file)\n",
    "    image = cv2.cvtColor(image, cv2.COLOR_BGR2GRAY)\n",
    "    # Add some extra padding around the image\n",
    "    image = cv2.copyMakeBorder(image, 20, 20, 20, 20, cv2.BORDER_REPLICATE)\n",
    "\n",
    "    # threshold the image (convert it to pure black and white)\n",
    "    thresh = cv2.threshold(image, 0, 255, cv2.THRESH_BINARY_INV | cv2.THRESH_OTSU)[1]\n",
    "\n",
    "    # find the contours (continuous blobs of pixels) the image\n",
    "    contours,_ = cv2.findContours(thresh.copy(), cv2.RETR_EXTERNAL, cv2.CHAIN_APPROX_SIMPLE)\n",
    "\n",
    "    # Hack for compatibility with different OpenCV versions\n",
    "    #contours = contours[0] if imutils.is_cv2() else contours[1]\n",
    "\n",
    "    letter_image_regions = []\n",
    "       # Now we can loop through each of the four contours and extract the letter\n",
    "    # inside of each one\n",
    "    for contour in contours:\n",
    "        # Get the rectangle that contains the contour\n",
    "        (x, y, w, h) = cv2.boundingRect(contour)\n",
    "\n",
    "        # Compare the width and height of the contour to detect letters that\n",
    "        # are conjoined into one chunk\n",
    "        if w / h > 1.25:\n",
    "            # This contour is too wide to be a single letter!\n",
    "            # Split it in half into two letter regions!\n",
    "            half_width = int(w / 2)\n",
    "            letter_image_regions.append((x, y, half_width, h))\n",
    "            letter_image_regions.append((x + half_width, y, half_width, h))\n",
    "        else:\n",
    "            # This is a normal letter by itself\n",
    "            letter_image_regions.append((x, y, w, h))\n",
    "\n",
    "    # If we found more or less than 4 letters in the captcha, our letter extraction\n",
    "    # didn't work correcly. Skip the image instead of saving bad training data!\n",
    "    if len(letter_image_regions) != 4:\n",
    "        continue\n",
    "\n",
    "    # Sort the detected letter images based on the x coordinate to make sure\n",
    "    # we are processing them from left-to-right so we match the right image\n",
    "    # with the right letter\n",
    "    letter_image_regions = sorted(letter_image_regions, key=lambda x: x[0])\n",
    "    # Create an output image and a list to hold our predicted letters\n",
    "    output = cv2.merge([image] * 3)\n",
    "    predictions = []\n",
    "\n",
    "    # loop over the lektters\n",
    "    for letter_bounding_box in letter_image_regions:\n",
    "        # Grab the coordinates of the letter in the image\n",
    "        x, y, w, h = letter_bounding_box\n",
    "\n",
    "        # Extract the letter from the original image with a 2-pixel margin around the edge\n",
    "        letter_image = image[y - 2:y + h + 2, x - 2:x + w + 2]\n",
    "\n",
    "        # Re-size the letter image to 28x28 pixels to match training data\n",
    "        letter_image = cv2.cvtColor(letter_image, cv2.COLOR_GRAY2RGB)\n",
    "        letter_image = cv2.resize(letter_image, (28, 28))\n",
    "        #print(letter_image.shape)\n",
    "        letter_image = letter_image.reshape(1,28,28,3)\n",
    "        #print(letter_image.shape)\n",
    "        \n",
    "        # Ask the neural network to make a prediction\n",
    "        prediction = model.predict_classes(letter_image)\n",
    "\n",
    "        letter = class_names[prediction[0]]\n",
    "        predictions.append(letter)\n",
    "\n",
    "        # draw the prediction on the output image\n",
    "        cv2.rectangle(output, (x - 2, y - 2), (x + w + 4, y + h + 4), (0, 255, 0), 1)\n",
    "        cv2.putText(output, letter, (x - 5, y - 5), cv2.FONT_HERSHEY_SIMPLEX, 0.55, (0, 255, 0), 2)\n",
    "    # Print the captcha's text\n",
    "    captcha_text = \"\".join(predictions)\n",
    "    print(\"CAPTCHA text is: {}\".format(captcha_text))\n",
    "    out.append(output)\n",
    "    # Show the annotated image\n",
    "    cv2.imshow(\"Output\", output)\n",
    "    cv2.waitKey()\n",
    "\n",
    "cv2.destroyAllWindows()"
   ]
  },
  {
   "cell_type": "code",
   "execution_count": 60,
   "metadata": {},
   "outputs": [
    {
     "data": {
      "image/png": "[encoded data removed]",
      "text/plain": [
       "<Figure size 1440x1440 with 5 Axes>"
      ]
     },
     "metadata": {
      "needs_background": "light"
     },
     "output_type": "display_data"
    }
   ],
   "source": [
    "plt.figure(figsize=(20, 20))\n",
    "for i,img in enumerate(out[:]):\n",
    "    ax = plt.subplot(1, 5, i + 1)\n",
    "    plt.imshow(img)\n",
    "    plt.axis(\"off\")"
   ]
  },
  {
   "cell_type": "markdown",
   "metadata": {},
   "source": [
    "## 5.2 Test the 2d model"
   ]
  },
  {
   "cell_type": "code",
   "execution_count": 9,
   "metadata": {},
   "outputs": [],
   "source": [
    "model2 = load_model(\"captcha_model_v2.hdf5\")"
   ]
  },
  {
   "cell_type": "code",
   "execution_count": 51,
   "metadata": {
    "scrolled": false
   },
   "outputs": [
    {
     "name": "stdout",
     "output_type": "stream",
     "text": [
      "CAPTCHA text is: 7GYK\n",
      "CAPTCHA text is: T36G\n",
      "CAPTCHA text is: USBQ\n",
      "CAPTCHA text is: GF3H\n",
      "CAPTCHA text is: LM38\n",
      "CAPTCHA text is: FUTR\n",
      "CAPTCHA text is: 6S9L\n",
      "CAPTCHA text is: 3QZL\n",
      "CAPTCHA text is: SSNS\n",
      "CAPTCHA text is: 68KJ\n"
     ]
    }
   ],
   "source": [
    "c_i_f = np.random.choice(captcha_image_files, size=(10,), replace=False)\n",
    "out = []\n",
    "for image_file in c_i_f:\n",
    "    # Load the image and convert it to grayscale\n",
    "    image = cv2.imread(image_file)\n",
    "    image = cv2.cvtColor(image, cv2.COLOR_BGR2GRAY)\n",
    "    # Add some extra padding around the image\n",
    "    image = cv2.copyMakeBorder(image, 20, 20, 20, 20, cv2.BORDER_REPLICATE)\n",
    "\n",
    "    # threshold the image (convert it to pure black and white)\n",
    "    thresh = cv2.threshold(image, 0, 255, cv2.THRESH_BINARY_INV | cv2.THRESH_OTSU)[1]\n",
    "\n",
    "    # find the contours (continuous blobs of pixels) the image\n",
    "    contours,_ = cv2.findContours(thresh.copy(), cv2.RETR_EXTERNAL, cv2.CHAIN_APPROX_SIMPLE)\n",
    "    \n",
    "    letter_image_regions = []\n",
    "       # Now we can loop through each of the four contours and extract the letter\n",
    "    # inside of each one\n",
    "    for contour in contours:\n",
    "        # Get the rectangle that contains the contour\n",
    "        (x, y, w, h) = cv2.boundingRect(contour)\n",
    "\n",
    "        # Compare the width and height of the contour to detect letters that\n",
    "        # are conjoined into one chunk\n",
    "        if w / h > 1.25:\n",
    "            # This contour is too wide to be a single letter!\n",
    "            # Split it in half into two letter regions!\n",
    "            half_width = int(w / 2)\n",
    "            letter_image_regions.append((x, y, half_width, h))\n",
    "            letter_image_regions.append((x + half_width, y, half_width, h))\n",
    "        else:\n",
    "            # This is a normal letter by itself\n",
    "            letter_image_regions.append((x, y, w, h))\n",
    "\n",
    "    # If we found more or less than 4 letters in the captcha, our letter extraction\n",
    "    # didn't work correcly. Skip the image instead of saving bad training data!\n",
    "    if len(letter_image_regions) != 4:\n",
    "        continue\n",
    "        \n",
    "    # Sort the detected letter images based on the x coordinate to make sure\n",
    "    # we are processing them from left-to-right so we match the right image\n",
    "    # with the right letter\n",
    "    letter_image_regions = sorted(letter_image_regions, key=lambda x: x[0])\n",
    "    # Create an output image and a list to hold our predicted letters\n",
    "    output = cv2.merge([image] * 3)\n",
    "    predictions = []\n",
    "\n",
    "    # loop over the lektters\n",
    "    for letter_bounding_box in letter_image_regions:\n",
    "        # Grab the coordinates of the letter in the image\n",
    "        x, y, w, h = letter_bounding_box\n",
    "\n",
    "        # Extract the letter from the original image with a 2-pixel margin around the edge\n",
    "        letter_image = image[y - 2:y + h + 2, x - 2:x + w + 2]\n",
    "        # Re-size the letter image to 28x28 pixels to match training data\n",
    "        letter_image = preprocessImage(letter_image, 28, 28)\n",
    "        # Turn the single image into a 4d list of images to make Keras happy\n",
    "        letter_image = np.expand_dims(letter_image, axis=2)\n",
    "        letter_image = np.expand_dims(letter_image, axis=0)\n",
    "        # Ask the neural network to make a prediction\n",
    "        prediction = model2.predict(letter_image)\n",
    "\n",
    "        # Convert the one-hot-encoded prediction back to a normal letter\n",
    "        letter = lb.inverse_transform(prediction)[0]\n",
    "        predictions.append(letter)\n",
    "\n",
    "        # draw the prediction on the output image\n",
    "        cv2.rectangle(output, (x - 2, y - 2), (x + w + 4, y + h + 4), (0, 255, 0), 1)\n",
    "        cv2.putText(output, letter, (x - 5, y - 5), cv2.FONT_HERSHEY_SIMPLEX, 0.55, (0, 255, 0), 2)\n",
    "    # Print the captcha's text\n",
    "    captcha_text = \"\".join(predictions)\n",
    "    print(\"CAPTCHA text is: {}\".format(captcha_text))\n",
    "    out.append(output)\n",
    "    # Show the annotated image\n",
    "    cv2.imshow(\"Output\", output)\n",
    "    cv2.waitKey()\n",
    "\n",
    "cv2.destroyAllWindows()"
   ]
  },
  {
   "cell_type": "code",
   "execution_count": 52,
   "metadata": {},
   "outputs": [
    {
     "data": {
      "image/png": "[encoded data removed]",
      "text/plain": [
       "<Figure size 1440x1440 with 5 Axes>"
      ]
     },
     "metadata": {
      "needs_background": "light"
     },
     "output_type": "display_data"
    }
   ],
   "source": [
    "plt.figure(figsize=(20, 20))\n",
    "for i,img in enumerate(out[:5]):\n",
    "    ax = plt.subplot(1, 5, i + 1)\n",
    "    plt.imshow(img)\n",
    "    plt.axis(\"off\")"
   ]
  }
 ],
 "metadata": {
  "kernelspec": {
   "display_name": "Python 3 (ipykernel)",
   "language": "python",
   "name": "python3"
  },
  "language_info": {
   "codemirror_mode": {
    "name": "ipython",
    "version": 3
   },
   "file_extension": ".py",
   "mimetype": "text/x-python",
   "name": "python",
   "nbconvert_exporter": "python",
   "pygments_lexer": "ipython3",
   "version": "3.7.13"
  }
 },
 "nbformat": 4,
 "nbformat_minor": 2
}
